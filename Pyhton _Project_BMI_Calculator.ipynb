{
 "cells": [
  {
   "cell_type": "markdown",
   "id": "2bb5d2ab",
   "metadata": {},
   "source": [
    "# BMI Calculator"
   ]
  },
  {
   "cell_type": "code",
   "execution_count": 17,
   "id": "5aa93267",
   "metadata": {
    "scrolled": true
   },
   "outputs": [
    {
     "name": "stdout",
     "output_type": "stream",
     "text": [
      "Enter your nameArmaan\n",
      "Enter your weight in pounds: 202\n",
      "Enter your height in inches: 69\n",
      "29.82692711615207\n",
      "Armaan, You are Overweight!\n"
     ]
    }
   ],
   "source": [
    "name = input('Enter your name')\n",
    "\n",
    "weight = int(input(\"Enter your weight in pounds: \"))\n",
    "\n",
    "height = int(input(\"Enter your height in inches: \"))\n",
    "\n",
    "BMI = (weight * 703) / (height * height)\n",
    "\n",
    "print(BMI)\n",
    "\n",
    "\n",
    "\n",
    "if BMI > 0:\n",
    "    if(BMI < 18.5):\n",
    "        print(name + ', You are Underweight!')\n",
    "    elif(BMI > 18.5 and BMI < 24.9):\n",
    "        print(name + ', You are Normal Weight!')\n",
    "    elif(BMI > 25 and BMI < 29.9):\n",
    "        print(name + ', You are Overweight!')\n",
    "    elif(BMI > 30 and BMI < 34.9):\n",
    "        print(name + ', You are Obese!')\n",
    "    elif(BMI > 35 and BMI < 39.9):\n",
    "        print(name + ', You are Severely Obese!')\n",
    "    else:\n",
    "        print(name + ', You are Morbidly Obese!')\n"
   ]
  },
  {
   "cell_type": "code",
   "execution_count": 16,
   "id": "57a7f818",
   "metadata": {},
   "outputs": [
    {
     "name": "stdout",
     "output_type": "stream",
     "text": [
      "Armaan, You are Overweight!\n"
     ]
    }
   ],
   "source": [
    "if BMI > 0:\n",
    "    if(BMI < 18.5):\n",
    "        print(name + ', You are Underweight!')\n",
    "    elif(BMI > 18.5 and BMI < 24.9):\n",
    "        print(name + ', You are Normal Weight!')\n",
    "    elif(BMI > 25 and BMI < 29.9):\n",
    "        print(name + ', You are Overweight!')\n",
    "    elif(BMI > 30 and BMI < 34.9):\n",
    "        print(name + ', You are Obese!')\n",
    "    elif(BMI > 35 and BMI < 39.9):\n",
    "        print(name + ', You are Severely Obese!')\n",
    "    else:\n",
    "        print(name + ', You are Morbidly Obese!')\n",
    "        "
   ]
  },
  {
   "cell_type": "code",
   "execution_count": null,
   "id": "e08dc640",
   "metadata": {},
   "outputs": [],
   "source": []
  },
  {
   "cell_type": "code",
   "execution_count": null,
   "id": "1cb5dc47",
   "metadata": {},
   "outputs": [],
   "source": []
  },
  {
   "cell_type": "code",
   "execution_count": null,
   "id": "609563f2",
   "metadata": {},
   "outputs": [],
   "source": []
  },
  {
   "cell_type": "code",
   "execution_count": null,
   "id": "a00be017",
   "metadata": {},
   "outputs": [],
   "source": []
  },
  {
   "cell_type": "code",
   "execution_count": null,
   "id": "82a3971b",
   "metadata": {},
   "outputs": [],
   "source": [
    "print(weight)"
   ]
  },
  {
   "cell_type": "code",
   "execution_count": null,
   "id": "bddfecb2",
   "metadata": {},
   "outputs": [],
   "source": []
  },
  {
   "cell_type": "code",
   "execution_count": null,
   "id": "9fe29e0e",
   "metadata": {},
   "outputs": [],
   "source": []
  },
  {
   "cell_type": "code",
   "execution_count": null,
   "id": "fb1ead83",
   "metadata": {},
   "outputs": [],
   "source": []
  },
  {
   "cell_type": "code",
   "execution_count": null,
   "id": "3fd7d689",
   "metadata": {},
   "outputs": [],
   "source": []
  },
  {
   "cell_type": "code",
   "execution_count": null,
   "id": "a3ce59ff",
   "metadata": {},
   "outputs": [],
   "source": []
  },
  {
   "cell_type": "code",
   "execution_count": null,
   "id": "8b42f65e",
   "metadata": {},
   "outputs": [],
   "source": []
  },
  {
   "cell_type": "code",
   "execution_count": null,
   "id": "3c120010",
   "metadata": {},
   "outputs": [],
   "source": []
  },
  {
   "cell_type": "code",
   "execution_count": null,
   "id": "8cb78e54",
   "metadata": {},
   "outputs": [],
   "source": []
  }
 ],
 "metadata": {
  "kernelspec": {
   "display_name": "Python 3 (ipykernel)",
   "language": "python",
   "name": "python3"
  },
  "language_info": {
   "codemirror_mode": {
    "name": "ipython",
    "version": 3
   },
   "file_extension": ".py",
   "mimetype": "text/x-python",
   "name": "python",
   "nbconvert_exporter": "python",
   "pygments_lexer": "ipython3",
   "version": "3.10.9"
  }
 },
 "nbformat": 4,
 "nbformat_minor": 5
}
